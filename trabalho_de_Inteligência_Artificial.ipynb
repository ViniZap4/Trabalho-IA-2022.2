{
  "cells": [
    {
      "cell_type": "markdown",
      "metadata": {
        "id": "P5x6mrqU6cca"
      },
      "source": [
        "# Trabalho de inteligencia artificial\n",
        "\n",
        "## Autores\n",
        "- _Brenda Aryelle_\n",
        "    - **RA**: 3019101902\n",
        "- _Felipe Moresqui_\n",
        "    - **RA**: 3019100222\n",
        "- _Lucas Alves Ribeiro_\n",
        "    - **RA**: 3019103813\n",
        "- _Vinicius Zapalá dos Santos_\n",
        "    - **RA**: 3019109027\n",
        "\n",
        "## Entregas\n",
        "- [X] Entrega I\n",
        "    - leitura dos dados, merge e geração de dataset único.\n",
        "- [X] Entrega II\n",
        "    - Análise exploratória do conjunto de dados e conclusões.\n",
        "- [X] Entrega III\n",
        "    - Modelo preditivo com tuning de parâmetros + Entregas I e II.\n",
        "- [ ] Entrega IV\n",
        "    - Deploy do modelo (API ou aplicação) + Entregas I, II e III."
      ]
    },
    {
      "cell_type": "markdown",
      "metadata": {
        "id": "JGb21fcd7FPb"
      },
      "source": [
        "# Importando Libs"
      ]
    },
    {
      "cell_type": "code",
      "execution_count": 299,
      "metadata": {
        "id": "x5jdIlLf6Vlv"
      },
      "outputs": [],
      "source": [
        "import pandas as pd\n",
        "import numpy as np\n",
        "from collections import Counter\n",
        "from nltk.tokenize import word_tokenize, sent_tokenize\n",
        "import matplotlib.pyplot as plt\n",
        "from sklearn.preprocessing import LabelEncoder\n",
        "from sklearn.model_selection import train_test_split\n",
        "from sklearn.ensemble import RandomForestRegressor\n",
        "from sklearn.metrics import  r2_score\n",
        "from sklearn.linear_model import LinearRegression\n",
        "from xgboost import XGBRegressor\n"
      ]
    },
    {
      "cell_type": "markdown",
      "metadata": {
        "id": "gfBRsLU2-00r"
      },
      "source": [
        "# Lendo Datasets"
      ]
    },
    {
      "cell_type": "code",
      "execution_count": 300,
      "metadata": {
        "colab": {
          "base_uri": "https://localhost:8080/"
        },
        "id": "j7Mxg-u--4Ke",
        "outputId": "ab828f70-bc31-4c90-c066-e0b4c9f835c7"
      },
      "outputs": [
        {
          "output_type": "stream",
          "name": "stdout",
          "text": [
            "/content/data/reclamacoes-fundamentadas-sindec-\n"
          ]
        },
        {
          "output_type": "stream",
          "name": "stderr",
          "text": [
            "/usr/local/lib/python3.7/dist-packages/IPython/core/interactiveshell.py:3326: DtypeWarning: Columns (22) have mixed types.Specify dtype option on import or set low_memory=False.\n",
            "  exec(code_obj, self.user_global_ns, self.user_ns)\n"
          ]
        }
      ],
      "source": [
        "#creating variables for folder and files from datasets\n",
        "dataFolder= \"/content/data\"\n",
        "\n",
        "#creating a variable for path files, because their files have a similar name\n",
        "dataFileName = \"/reclamacoes-fundamentadas-sindec-\"\n",
        "defaultPath = dataFolder + dataFileName\n",
        "\n",
        "print(defaultPath)\n",
        "\n",
        "#setting datasets\n",
        "df2012 = pd.read_csv(defaultPath+\"2012.csv\")\n",
        "df2013 = pd.read_csv(defaultPath+\"2013.csv\")\n",
        "df2014 = pd.read_csv(defaultPath+\"2014.csv\")\n",
        "df2015 = pd.read_csv(defaultPath+\"2015.csv\")\n",
        "df2016 = pd.read_csv(defaultPath+\"2016.csv\")"
      ]
    },
    {
      "cell_type": "markdown",
      "metadata": {
        "id": "zjOBM9_-DP6G"
      },
      "source": [
        "# Concatenando datasets"
      ]
    },
    {
      "cell_type": "code",
      "execution_count": 301,
      "metadata": {
        "id": "8mRzgGsiArjM"
      },
      "outputs": [],
      "source": [
        "#creating a list for datasets will be concatenated\n",
        "frames = [df2012, df2013, df2014, df2015, df2016]\n",
        "\n",
        "#concatenating datasets\n",
        "dfFull = pd.concat(frames)"
      ]
    },
    {
      "cell_type": "code",
      "execution_count": 302,
      "metadata": {
        "id": "WxKpAKX_Foqd",
        "colab": {
          "base_uri": "https://localhost:8080/"
        },
        "outputId": "7d8361bd-9fb0-4d72-cfd7-51b4c6550e9f"
      },
      "outputs": [
        {
          "output_type": "execute_result",
          "data": {
            "text/plain": [
              "(1206072, 23)"
            ]
          },
          "metadata": {},
          "execution_count": 302
        }
      ],
      "source": [
        "dfFull.shape"
      ]
    },
    {
      "cell_type": "markdown",
      "metadata": {
        "id": "1v5GJc7FGSHa"
      },
      "source": [
        "# Exportando dataset concatenado"
      ]
    },
    {
      "cell_type": "code",
      "execution_count": 303,
      "metadata": {
        "id": "H4QW2Np2GeC4"
      },
      "outputs": [],
      "source": [
        "#dfFull.to_csv(dataFolder+\"/exported\"+dataFileName+\"full.csv\")"
      ]
    },
    {
      "cell_type": "markdown",
      "source": [
        "## Análise exploratória do conjunto de dados e conclusões."
      ],
      "metadata": {
        "id": "lja9tWOds9iK"
      }
    },
    {
      "cell_type": "markdown",
      "source": [
        "Entendendo Dataset"
      ],
      "metadata": {
        "id": "yOP3jRDmepTk"
      }
    },
    {
      "cell_type": "code",
      "source": [
        "dfFull.info()"
      ],
      "metadata": {
        "colab": {
          "base_uri": "https://localhost:8080/"
        },
        "id": "cfENT1x6erPb",
        "outputId": "15ec09dd-b189-4304-e239-6f67f85fa2a3"
      },
      "execution_count": 304,
      "outputs": [
        {
          "output_type": "stream",
          "name": "stdout",
          "text": [
            "<class 'pandas.core.frame.DataFrame'>\n",
            "Int64Index: 1206072 entries, 0 to 203485\n",
            "Data columns (total 23 columns):\n",
            " #   Column                 Non-Null Count    Dtype  \n",
            "---  ------                 --------------    -----  \n",
            " 0   AnoCalendario          1206072 non-null  int64  \n",
            " 1   DataArquivamento       1206072 non-null  object \n",
            " 2   DataAbertura           1206072 non-null  object \n",
            " 3   CodigoRegiao           1206072 non-null  int64  \n",
            " 4   Regiao                 1206072 non-null  object \n",
            " 5   UF                     1206072 non-null  object \n",
            " 6   strRazaoSocial         1206064 non-null  object \n",
            " 7   strNomeFantasia        1006636 non-null  object \n",
            " 8   Tipo                   1206072 non-null  int64  \n",
            " 9   NumeroCNPJ             1153518 non-null  float64\n",
            " 10  RadicalCNPJ            1152390 non-null  float64\n",
            " 11  RazaoSocialRFB         1137442 non-null  object \n",
            " 12  NomeFantasiaRFB        547639 non-null   object \n",
            " 13  CNAEPrincipal          1133380 non-null  float64\n",
            " 14  DescCNAEPrincipal      1122261 non-null  object \n",
            " 15  Atendida               1206072 non-null  object \n",
            " 16  CodigoAssunto          1206072 non-null  int64  \n",
            " 17  DescricaoAssunto       1206072 non-null  object \n",
            " 18  CodigoProblema         1206052 non-null  float64\n",
            " 19  DescricaoProblema      1206052 non-null  object \n",
            " 20  SexoConsumidor         1205101 non-null  object \n",
            " 21  FaixaEtariaConsumidor  1206072 non-null  object \n",
            " 22  CEPConsumidor          1123266 non-null  object \n",
            "dtypes: float64(4), int64(4), object(15)\n",
            "memory usage: 220.8+ MB\n"
          ]
        }
      ]
    },
    {
      "cell_type": "markdown",
      "source": [
        "serpadando as 100 primeiras linhas do dataset "
      ],
      "metadata": {
        "id": "mzVzHdJwbG4y"
      }
    },
    {
      "cell_type": "code",
      "source": [
        "dfhead = dfFull.head(100)\n",
        "dfhead"
      ],
      "metadata": {
        "id": "jZGgflO2s95B",
        "colab": {
          "base_uri": "https://localhost:8080/",
          "height": 974
        },
        "outputId": "a9e527a4-aee1-4caa-8d9c-34e4d9db3f31"
      },
      "execution_count": 305,
      "outputs": [
        {
          "output_type": "execute_result",
          "data": {
            "text/plain": [
              "    AnoCalendario         DataArquivamento             DataAbertura  \\\n",
              "0            2012  2012-07-13 17:44:45.000  2009-09-17 10:48:42.000   \n",
              "1            2012  2012-07-13 17:37:19.000  2009-09-17 10:02:24.000   \n",
              "2            2012  2012-07-16 09:07:13.000  2009-09-17 11:36:47.000   \n",
              "3            2012  2012-12-10 09:05:09.000  2009-09-21 09:01:49.000   \n",
              "4            2012  2012-07-13 17:51:01.000  2009-09-18 17:32:22.000   \n",
              "..            ...                      ...                      ...   \n",
              "95           2012  2012-08-31 10:48:18.000  2008-03-31 10:48:01.000   \n",
              "96           2012  2012-06-06 13:41:47.000  2009-05-06 17:20:51.000   \n",
              "97           2012  2012-06-06 13:48:05.000  2009-05-07 11:52:47.000   \n",
              "98           2012  2012-06-06 13:53:39.000  2009-05-07 12:38:38.000   \n",
              "99           2012  2012-07-16 08:48:51.000  2009-11-23 18:02:43.000   \n",
              "\n",
              "    CodigoRegiao        Regiao  UF  \\\n",
              "0              3       Sudeste  ES   \n",
              "1              3       Sudeste  ES   \n",
              "2              3       Sudeste  ES   \n",
              "3              5  Centro-oeste  GO   \n",
              "4              3       Sudeste  ES   \n",
              "..           ...           ...  ..   \n",
              "95             2      Nordeste  CE   \n",
              "96             3       Sudeste  ES   \n",
              "97             3       Sudeste  ES   \n",
              "98             3       Sudeste  ES   \n",
              "99             3       Sudeste  ES   \n",
              "\n",
              "                                       strRazaoSocial  \\\n",
              "0                       IBI PROMOTORA DE VENDAS LTDA.   \n",
              "1                 SAMSUNG ELETRONICA DA AMAZONIA LTDA   \n",
              "2                           LINNU''S AUTOMOVEIS LTDA.   \n",
              "3   AMAZON PC INDUSTRIA E COMERCIO DE MICROCOMPUTA...   \n",
              "4                      OFFICINA REVESTIMENTOS LTDA ME   \n",
              "..                                                ...   \n",
              "95      GRADIENTE ELETRONICA S/A (IGB ELETRÔNICA S/A)   \n",
              "96                    JR EVENTOS E FORMATURAS LTDA ME   \n",
              "97                 MABE CAMPINAS ELETRODOMESTICOS S/A   \n",
              "98                                  SONY BRASIL LTDA.   \n",
              "99                            TELEMAR NORTE LESTE S/A   \n",
              "\n",
              "               strNomeFantasia  Tipo    NumeroCNPJ  ...  CNAEPrincipal  \\\n",
              "0                     IBI CARD     1  7.448120e+13  ...      7490104.0   \n",
              "1                      SAMSUNG     1  2.802730e+11  ...      2640000.0   \n",
              "2            LINNUS AUTOMOVEIS     1  3.635548e+13  ...      4512902.0   \n",
              "3                    AMAZON PC     1  1.614079e+12  ...      2621300.0   \n",
              "4                          NaN     1  5.444155e+12  ...      4744005.0   \n",
              "..                         ...   ...           ...  ...            ...   \n",
              "95                         NaN     1  4.318536e+13  ...      2640000.0   \n",
              "96     JR EVENTOS E FORMATURAS     1  7.339319e+12  ...      7420004.0   \n",
              "97  DAKO / GE ELETRODOMÉSTICOS     1  4.604131e+13  ...      2751100.0   \n",
              "98                        SONY     1  4.344704e+13  ...      2640000.0   \n",
              "99   OI FIXO/OI MOVEL/OI VELOX     1  3.300012e+13  ...      6110801.0   \n",
              "\n",
              "                                    DescCNAEPrincipal Atendida  CodigoAssunto  \\\n",
              "0   ATIVIDADES DE INTERMEDIAÇÃO E AGENCIAMENTO DE ...        N             54   \n",
              "1   FABRICAÇÃO DE APARELHOS DE RECEPÇÃO, REPRODUÇÃ...        N            101   \n",
              "2    COMÉRCIO SOB CONSIGNAÇÃO DE VEÍCULOS AUTOMOTORES        N            129   \n",
              "3           FABRICAÇÃO DE EQUIPAMENTOS DE INFORMÁTICA        S            102   \n",
              "4   COMÉRCIO VAREJISTA DE MATERIAIS DE CONSTRUÇÃO ...        N            118   \n",
              "..                                                ...      ...            ...   \n",
              "95  FABRICAÇÃO DE APARELHOS DE RECEPÇÃO, REPRODUÇÃ...        N             96   \n",
              "96                       FILMAGEM DE FESTAS E EVENTOS        S             91   \n",
              "97  FABRICAÇÃO DE FOGÕES, REFRIGERADORES E MÁQUINA...        S             94   \n",
              "98  FABRICAÇÃO DE APARELHOS DE RECEPÇÃO, REPRODUÇÃ...        S            102   \n",
              "99         SERVIÇOS DE TELEFONIA FIXA COMUTADA - STFC        N             54   \n",
              "\n",
              "                                     DescricaoAssunto CodigoProblema  \\\n",
              "0                                   Cartão de Crédito           32.0   \n",
              "1   Telefone ( Convencional, Celular, Interfone, E...          102.0   \n",
              "2                   Carro Nacional Zero ( Montadora )          111.0   \n",
              "3           Microcomputador / Produtos de Informática          102.0   \n",
              "4   Material de Acabamento de Construção Pronto (P...          116.0   \n",
              "..                                                ...            ...   \n",
              "95  Televisão / Vídeo Cassete / Filmadora / Video-...          113.0   \n",
              "96  Artigo de audiovisual ( Fita Cassete, Disco, F...          116.0   \n",
              "97                                Geladeira e Freezer          102.0   \n",
              "98          Microcomputador / Produtos de Informática          102.0   \n",
              "99                                  Cartão de Crédito          218.0   \n",
              "\n",
              "                                    DescricaoProblema SexoConsumidor  \\\n",
              "0                      Calculo de prestação em atraso              F   \n",
              "1             Garantia (Abrangência, cobertura, etc.)              M   \n",
              "2                                      Venda enganosa              M   \n",
              "3             Garantia (Abrangência, cobertura, etc.)              M   \n",
              "4   Contrato/pedido/orçamento (rescisão, descumpri...              M   \n",
              "..                                                ...            ...   \n",
              "95                         Falta de peca de reposição              M   \n",
              "96  Contrato/pedido/orçamento (rescisão, descumpri...              F   \n",
              "97            Garantia (Abrangência, cobertura, etc.)              F   \n",
              "98            Garantia (Abrangência, cobertura, etc.)              M   \n",
              "99               Transação Eletrônica Não Reconhecida              M   \n",
              "\n",
              "    FaixaEtariaConsumidor CEPConsumidor  \n",
              "0         mais de 70 anos      29072040  \n",
              "1      entre 31 a 40 anos      29115360  \n",
              "2      entre 21 a 30 anos      29060110  \n",
              "3      entre 21 a 30 anos      75911000  \n",
              "4           Nao Informada      29090120  \n",
              "..                    ...           ...  \n",
              "95     entre 51 a 60 anos      60000000  \n",
              "96     entre 31 a 40 anos           NaN  \n",
              "97     entre 51 a 60 anos      29140000  \n",
              "98     entre 21 a 30 anos      29043490  \n",
              "99     entre 51 a 60 anos      29048480  \n",
              "\n",
              "[100 rows x 23 columns]"
            ],
            "text/html": [
              "\n",
              "  <div id=\"df-cb58dc21-e12d-4856-b490-13c65490597f\">\n",
              "    <div class=\"colab-df-container\">\n",
              "      <div>\n",
              "<style scoped>\n",
              "    .dataframe tbody tr th:only-of-type {\n",
              "        vertical-align: middle;\n",
              "    }\n",
              "\n",
              "    .dataframe tbody tr th {\n",
              "        vertical-align: top;\n",
              "    }\n",
              "\n",
              "    .dataframe thead th {\n",
              "        text-align: right;\n",
              "    }\n",
              "</style>\n",
              "<table border=\"1\" class=\"dataframe\">\n",
              "  <thead>\n",
              "    <tr style=\"text-align: right;\">\n",
              "      <th></th>\n",
              "      <th>AnoCalendario</th>\n",
              "      <th>DataArquivamento</th>\n",
              "      <th>DataAbertura</th>\n",
              "      <th>CodigoRegiao</th>\n",
              "      <th>Regiao</th>\n",
              "      <th>UF</th>\n",
              "      <th>strRazaoSocial</th>\n",
              "      <th>strNomeFantasia</th>\n",
              "      <th>Tipo</th>\n",
              "      <th>NumeroCNPJ</th>\n",
              "      <th>...</th>\n",
              "      <th>CNAEPrincipal</th>\n",
              "      <th>DescCNAEPrincipal</th>\n",
              "      <th>Atendida</th>\n",
              "      <th>CodigoAssunto</th>\n",
              "      <th>DescricaoAssunto</th>\n",
              "      <th>CodigoProblema</th>\n",
              "      <th>DescricaoProblema</th>\n",
              "      <th>SexoConsumidor</th>\n",
              "      <th>FaixaEtariaConsumidor</th>\n",
              "      <th>CEPConsumidor</th>\n",
              "    </tr>\n",
              "  </thead>\n",
              "  <tbody>\n",
              "    <tr>\n",
              "      <th>0</th>\n",
              "      <td>2012</td>\n",
              "      <td>2012-07-13 17:44:45.000</td>\n",
              "      <td>2009-09-17 10:48:42.000</td>\n",
              "      <td>3</td>\n",
              "      <td>Sudeste</td>\n",
              "      <td>ES</td>\n",
              "      <td>IBI PROMOTORA DE VENDAS LTDA.</td>\n",
              "      <td>IBI CARD</td>\n",
              "      <td>1</td>\n",
              "      <td>7.448120e+13</td>\n",
              "      <td>...</td>\n",
              "      <td>7490104.0</td>\n",
              "      <td>ATIVIDADES DE INTERMEDIAÇÃO E AGENCIAMENTO DE ...</td>\n",
              "      <td>N</td>\n",
              "      <td>54</td>\n",
              "      <td>Cartão de Crédito</td>\n",
              "      <td>32.0</td>\n",
              "      <td>Calculo de prestação em atraso</td>\n",
              "      <td>F</td>\n",
              "      <td>mais de 70 anos</td>\n",
              "      <td>29072040</td>\n",
              "    </tr>\n",
              "    <tr>\n",
              "      <th>1</th>\n",
              "      <td>2012</td>\n",
              "      <td>2012-07-13 17:37:19.000</td>\n",
              "      <td>2009-09-17 10:02:24.000</td>\n",
              "      <td>3</td>\n",
              "      <td>Sudeste</td>\n",
              "      <td>ES</td>\n",
              "      <td>SAMSUNG ELETRONICA DA AMAZONIA LTDA</td>\n",
              "      <td>SAMSUNG</td>\n",
              "      <td>1</td>\n",
              "      <td>2.802730e+11</td>\n",
              "      <td>...</td>\n",
              "      <td>2640000.0</td>\n",
              "      <td>FABRICAÇÃO DE APARELHOS DE RECEPÇÃO, REPRODUÇÃ...</td>\n",
              "      <td>N</td>\n",
              "      <td>101</td>\n",
              "      <td>Telefone ( Convencional, Celular, Interfone, E...</td>\n",
              "      <td>102.0</td>\n",
              "      <td>Garantia (Abrangência, cobertura, etc.)</td>\n",
              "      <td>M</td>\n",
              "      <td>entre 31 a 40 anos</td>\n",
              "      <td>29115360</td>\n",
              "    </tr>\n",
              "    <tr>\n",
              "      <th>2</th>\n",
              "      <td>2012</td>\n",
              "      <td>2012-07-16 09:07:13.000</td>\n",
              "      <td>2009-09-17 11:36:47.000</td>\n",
              "      <td>3</td>\n",
              "      <td>Sudeste</td>\n",
              "      <td>ES</td>\n",
              "      <td>LINNU''S AUTOMOVEIS LTDA.</td>\n",
              "      <td>LINNUS AUTOMOVEIS</td>\n",
              "      <td>1</td>\n",
              "      <td>3.635548e+13</td>\n",
              "      <td>...</td>\n",
              "      <td>4512902.0</td>\n",
              "      <td>COMÉRCIO SOB CONSIGNAÇÃO DE VEÍCULOS AUTOMOTORES</td>\n",
              "      <td>N</td>\n",
              "      <td>129</td>\n",
              "      <td>Carro Nacional Zero ( Montadora )</td>\n",
              "      <td>111.0</td>\n",
              "      <td>Venda enganosa</td>\n",
              "      <td>M</td>\n",
              "      <td>entre 21 a 30 anos</td>\n",
              "      <td>29060110</td>\n",
              "    </tr>\n",
              "    <tr>\n",
              "      <th>3</th>\n",
              "      <td>2012</td>\n",
              "      <td>2012-12-10 09:05:09.000</td>\n",
              "      <td>2009-09-21 09:01:49.000</td>\n",
              "      <td>5</td>\n",
              "      <td>Centro-oeste</td>\n",
              "      <td>GO</td>\n",
              "      <td>AMAZON PC INDUSTRIA E COMERCIO DE MICROCOMPUTA...</td>\n",
              "      <td>AMAZON PC</td>\n",
              "      <td>1</td>\n",
              "      <td>1.614079e+12</td>\n",
              "      <td>...</td>\n",
              "      <td>2621300.0</td>\n",
              "      <td>FABRICAÇÃO DE EQUIPAMENTOS DE INFORMÁTICA</td>\n",
              "      <td>S</td>\n",
              "      <td>102</td>\n",
              "      <td>Microcomputador / Produtos de Informática</td>\n",
              "      <td>102.0</td>\n",
              "      <td>Garantia (Abrangência, cobertura, etc.)</td>\n",
              "      <td>M</td>\n",
              "      <td>entre 21 a 30 anos</td>\n",
              "      <td>75911000</td>\n",
              "    </tr>\n",
              "    <tr>\n",
              "      <th>4</th>\n",
              "      <td>2012</td>\n",
              "      <td>2012-07-13 17:51:01.000</td>\n",
              "      <td>2009-09-18 17:32:22.000</td>\n",
              "      <td>3</td>\n",
              "      <td>Sudeste</td>\n",
              "      <td>ES</td>\n",
              "      <td>OFFICINA REVESTIMENTOS LTDA ME</td>\n",
              "      <td>NaN</td>\n",
              "      <td>1</td>\n",
              "      <td>5.444155e+12</td>\n",
              "      <td>...</td>\n",
              "      <td>4744005.0</td>\n",
              "      <td>COMÉRCIO VAREJISTA DE MATERIAIS DE CONSTRUÇÃO ...</td>\n",
              "      <td>N</td>\n",
              "      <td>118</td>\n",
              "      <td>Material de Acabamento de Construção Pronto (P...</td>\n",
              "      <td>116.0</td>\n",
              "      <td>Contrato/pedido/orçamento (rescisão, descumpri...</td>\n",
              "      <td>M</td>\n",
              "      <td>Nao Informada</td>\n",
              "      <td>29090120</td>\n",
              "    </tr>\n",
              "    <tr>\n",
              "      <th>...</th>\n",
              "      <td>...</td>\n",
              "      <td>...</td>\n",
              "      <td>...</td>\n",
              "      <td>...</td>\n",
              "      <td>...</td>\n",
              "      <td>...</td>\n",
              "      <td>...</td>\n",
              "      <td>...</td>\n",
              "      <td>...</td>\n",
              "      <td>...</td>\n",
              "      <td>...</td>\n",
              "      <td>...</td>\n",
              "      <td>...</td>\n",
              "      <td>...</td>\n",
              "      <td>...</td>\n",
              "      <td>...</td>\n",
              "      <td>...</td>\n",
              "      <td>...</td>\n",
              "      <td>...</td>\n",
              "      <td>...</td>\n",
              "      <td>...</td>\n",
              "    </tr>\n",
              "    <tr>\n",
              "      <th>95</th>\n",
              "      <td>2012</td>\n",
              "      <td>2012-08-31 10:48:18.000</td>\n",
              "      <td>2008-03-31 10:48:01.000</td>\n",
              "      <td>2</td>\n",
              "      <td>Nordeste</td>\n",
              "      <td>CE</td>\n",
              "      <td>GRADIENTE ELETRONICA S/A (IGB ELETRÔNICA S/A)</td>\n",
              "      <td>NaN</td>\n",
              "      <td>1</td>\n",
              "      <td>4.318536e+13</td>\n",
              "      <td>...</td>\n",
              "      <td>2640000.0</td>\n",
              "      <td>FABRICAÇÃO DE APARELHOS DE RECEPÇÃO, REPRODUÇÃ...</td>\n",
              "      <td>N</td>\n",
              "      <td>96</td>\n",
              "      <td>Televisão / Vídeo Cassete / Filmadora / Video-...</td>\n",
              "      <td>113.0</td>\n",
              "      <td>Falta de peca de reposição</td>\n",
              "      <td>M</td>\n",
              "      <td>entre 51 a 60 anos</td>\n",
              "      <td>60000000</td>\n",
              "    </tr>\n",
              "    <tr>\n",
              "      <th>96</th>\n",
              "      <td>2012</td>\n",
              "      <td>2012-06-06 13:41:47.000</td>\n",
              "      <td>2009-05-06 17:20:51.000</td>\n",
              "      <td>3</td>\n",
              "      <td>Sudeste</td>\n",
              "      <td>ES</td>\n",
              "      <td>JR EVENTOS E FORMATURAS LTDA ME</td>\n",
              "      <td>JR EVENTOS E FORMATURAS</td>\n",
              "      <td>1</td>\n",
              "      <td>7.339319e+12</td>\n",
              "      <td>...</td>\n",
              "      <td>7420004.0</td>\n",
              "      <td>FILMAGEM DE FESTAS E EVENTOS</td>\n",
              "      <td>S</td>\n",
              "      <td>91</td>\n",
              "      <td>Artigo de audiovisual ( Fita Cassete, Disco, F...</td>\n",
              "      <td>116.0</td>\n",
              "      <td>Contrato/pedido/orçamento (rescisão, descumpri...</td>\n",
              "      <td>F</td>\n",
              "      <td>entre 31 a 40 anos</td>\n",
              "      <td>NaN</td>\n",
              "    </tr>\n",
              "    <tr>\n",
              "      <th>97</th>\n",
              "      <td>2012</td>\n",
              "      <td>2012-06-06 13:48:05.000</td>\n",
              "      <td>2009-05-07 11:52:47.000</td>\n",
              "      <td>3</td>\n",
              "      <td>Sudeste</td>\n",
              "      <td>ES</td>\n",
              "      <td>MABE CAMPINAS ELETRODOMESTICOS S/A</td>\n",
              "      <td>DAKO / GE ELETRODOMÉSTICOS</td>\n",
              "      <td>1</td>\n",
              "      <td>4.604131e+13</td>\n",
              "      <td>...</td>\n",
              "      <td>2751100.0</td>\n",
              "      <td>FABRICAÇÃO DE FOGÕES, REFRIGERADORES E MÁQUINA...</td>\n",
              "      <td>S</td>\n",
              "      <td>94</td>\n",
              "      <td>Geladeira e Freezer</td>\n",
              "      <td>102.0</td>\n",
              "      <td>Garantia (Abrangência, cobertura, etc.)</td>\n",
              "      <td>F</td>\n",
              "      <td>entre 51 a 60 anos</td>\n",
              "      <td>29140000</td>\n",
              "    </tr>\n",
              "    <tr>\n",
              "      <th>98</th>\n",
              "      <td>2012</td>\n",
              "      <td>2012-06-06 13:53:39.000</td>\n",
              "      <td>2009-05-07 12:38:38.000</td>\n",
              "      <td>3</td>\n",
              "      <td>Sudeste</td>\n",
              "      <td>ES</td>\n",
              "      <td>SONY BRASIL LTDA.</td>\n",
              "      <td>SONY</td>\n",
              "      <td>1</td>\n",
              "      <td>4.344704e+13</td>\n",
              "      <td>...</td>\n",
              "      <td>2640000.0</td>\n",
              "      <td>FABRICAÇÃO DE APARELHOS DE RECEPÇÃO, REPRODUÇÃ...</td>\n",
              "      <td>S</td>\n",
              "      <td>102</td>\n",
              "      <td>Microcomputador / Produtos de Informática</td>\n",
              "      <td>102.0</td>\n",
              "      <td>Garantia (Abrangência, cobertura, etc.)</td>\n",
              "      <td>M</td>\n",
              "      <td>entre 21 a 30 anos</td>\n",
              "      <td>29043490</td>\n",
              "    </tr>\n",
              "    <tr>\n",
              "      <th>99</th>\n",
              "      <td>2012</td>\n",
              "      <td>2012-07-16 08:48:51.000</td>\n",
              "      <td>2009-11-23 18:02:43.000</td>\n",
              "      <td>3</td>\n",
              "      <td>Sudeste</td>\n",
              "      <td>ES</td>\n",
              "      <td>TELEMAR NORTE LESTE S/A</td>\n",
              "      <td>OI FIXO/OI MOVEL/OI VELOX</td>\n",
              "      <td>1</td>\n",
              "      <td>3.300012e+13</td>\n",
              "      <td>...</td>\n",
              "      <td>6110801.0</td>\n",
              "      <td>SERVIÇOS DE TELEFONIA FIXA COMUTADA - STFC</td>\n",
              "      <td>N</td>\n",
              "      <td>54</td>\n",
              "      <td>Cartão de Crédito</td>\n",
              "      <td>218.0</td>\n",
              "      <td>Transação Eletrônica Não Reconhecida</td>\n",
              "      <td>M</td>\n",
              "      <td>entre 51 a 60 anos</td>\n",
              "      <td>29048480</td>\n",
              "    </tr>\n",
              "  </tbody>\n",
              "</table>\n",
              "<p>100 rows × 23 columns</p>\n",
              "</div>\n",
              "      <button class=\"colab-df-convert\" onclick=\"convertToInteractive('df-cb58dc21-e12d-4856-b490-13c65490597f')\"\n",
              "              title=\"Convert this dataframe to an interactive table.\"\n",
              "              style=\"display:none;\">\n",
              "        \n",
              "  <svg xmlns=\"http://www.w3.org/2000/svg\" height=\"24px\"viewBox=\"0 0 24 24\"\n",
              "       width=\"24px\">\n",
              "    <path d=\"M0 0h24v24H0V0z\" fill=\"none\"/>\n",
              "    <path d=\"M18.56 5.44l.94 2.06.94-2.06 2.06-.94-2.06-.94-.94-2.06-.94 2.06-2.06.94zm-11 1L8.5 8.5l.94-2.06 2.06-.94-2.06-.94L8.5 2.5l-.94 2.06-2.06.94zm10 10l.94 2.06.94-2.06 2.06-.94-2.06-.94-.94-2.06-.94 2.06-2.06.94z\"/><path d=\"M17.41 7.96l-1.37-1.37c-.4-.4-.92-.59-1.43-.59-.52 0-1.04.2-1.43.59L10.3 9.45l-7.72 7.72c-.78.78-.78 2.05 0 2.83L4 21.41c.39.39.9.59 1.41.59.51 0 1.02-.2 1.41-.59l7.78-7.78 2.81-2.81c.8-.78.8-2.07 0-2.86zM5.41 20L4 18.59l7.72-7.72 1.47 1.35L5.41 20z\"/>\n",
              "  </svg>\n",
              "      </button>\n",
              "      \n",
              "  <style>\n",
              "    .colab-df-container {\n",
              "      display:flex;\n",
              "      flex-wrap:wrap;\n",
              "      gap: 12px;\n",
              "    }\n",
              "\n",
              "    .colab-df-convert {\n",
              "      background-color: #E8F0FE;\n",
              "      border: none;\n",
              "      border-radius: 50%;\n",
              "      cursor: pointer;\n",
              "      display: none;\n",
              "      fill: #1967D2;\n",
              "      height: 32px;\n",
              "      padding: 0 0 0 0;\n",
              "      width: 32px;\n",
              "    }\n",
              "\n",
              "    .colab-df-convert:hover {\n",
              "      background-color: #E2EBFA;\n",
              "      box-shadow: 0px 1px 2px rgba(60, 64, 67, 0.3), 0px 1px 3px 1px rgba(60, 64, 67, 0.15);\n",
              "      fill: #174EA6;\n",
              "    }\n",
              "\n",
              "    [theme=dark] .colab-df-convert {\n",
              "      background-color: #3B4455;\n",
              "      fill: #D2E3FC;\n",
              "    }\n",
              "\n",
              "    [theme=dark] .colab-df-convert:hover {\n",
              "      background-color: #434B5C;\n",
              "      box-shadow: 0px 1px 3px 1px rgba(0, 0, 0, 0.15);\n",
              "      filter: drop-shadow(0px 1px 2px rgba(0, 0, 0, 0.3));\n",
              "      fill: #FFFFFF;\n",
              "    }\n",
              "  </style>\n",
              "\n",
              "      <script>\n",
              "        const buttonEl =\n",
              "          document.querySelector('#df-cb58dc21-e12d-4856-b490-13c65490597f button.colab-df-convert');\n",
              "        buttonEl.style.display =\n",
              "          google.colab.kernel.accessAllowed ? 'block' : 'none';\n",
              "\n",
              "        async function convertToInteractive(key) {\n",
              "          const element = document.querySelector('#df-cb58dc21-e12d-4856-b490-13c65490597f');\n",
              "          const dataTable =\n",
              "            await google.colab.kernel.invokeFunction('convertToInteractive',\n",
              "                                                     [key], {});\n",
              "          if (!dataTable) return;\n",
              "\n",
              "          const docLinkHtml = 'Like what you see? Visit the ' +\n",
              "            '<a target=\"_blank\" href=https://colab.research.google.com/notebooks/data_table.ipynb>data table notebook</a>'\n",
              "            + ' to learn more about interactive tables.';\n",
              "          element.innerHTML = '';\n",
              "          dataTable['output_type'] = 'display_data';\n",
              "          await google.colab.output.renderOutput(dataTable, element);\n",
              "          const docLink = document.createElement('div');\n",
              "          docLink.innerHTML = docLinkHtml;\n",
              "          element.appendChild(docLink);\n",
              "        }\n",
              "      </script>\n",
              "    </div>\n",
              "  </div>\n",
              "  "
            ]
          },
          "metadata": {},
          "execution_count": 305
        }
      ]
    },
    {
      "cell_type": "code",
      "source": [
        "def counterValues(column, most_common):\n",
        "  # creating array for values counter\n",
        "  counterValues = []\n",
        "\n",
        "  dfheadReplaced = dfhead.replace({np.nan:\"Void Value\"})# sorting out void values\n",
        "  dfFullReplaced = dfFull.replace({np.nan:\"Void Value\"})# sorting out void values\n",
        "\n",
        "\n",
        "  # Adding values in array counter\n",
        "  for i in dfFullReplaced[column]:\n",
        "      counterValues.append(str(i)) # adding respective values\n",
        "\n",
        "  #counting Values\n",
        "  counterWithVoid = Counter(counterValues)\n",
        "\n",
        "  print(f'De {len(dfFullReplaced)} valores foram contados {len(counterWithVoid.items())} valores diferentes')\n",
        "  print(f'sendo {counterWithVoid[\"Void Value\"]} de valores vazios. \\n')\n",
        "\n",
        "  #removing void values\n",
        "  counter = counterWithVoid\n",
        "  del counter[\"Void Value\"]\n",
        "\n",
        "  print(f'Os {most_common} valores mais comums: \\n {counter.most_common(most_common)}')\n",
        "\n",
        "  mostCommon = counter.most_common(most_common)\n",
        "  plt.bar(*zip(*mostCommon))\n",
        "  plt.show()\n"
      ],
      "metadata": {
        "id": "p5pWoWIPryUo"
      },
      "execution_count": 306,
      "outputs": []
    },
    {
      "cell_type": "markdown",
      "source": [
        "Contando valores que se repetem da `strNomeFantasia`"
      ],
      "metadata": {
        "id": "l1DvTCGghHCS"
      }
    },
    {
      "cell_type": "code",
      "source": [
        "counterValues(\"strNomeFantasia\", 10)"
      ],
      "metadata": {
        "colab": {
          "base_uri": "https://localhost:8080/",
          "height": 372
        },
        "id": "Gw6BFWSZr80y",
        "outputId": "7da68865-9073-405d-fa82-17ddbbb74f04"
      },
      "execution_count": 307,
      "outputs": [
        {
          "output_type": "stream",
          "name": "stdout",
          "text": [
            "De 1206072 valores foram contados 85713 valores diferentes\n",
            "sendo 199436 de valores vazios. \n",
            "\n",
            "Os 10 valores mais comums: \n",
            " [('OI', 17758), ('SKY', 14357), ('CLARO', 14090), ('OI FIXO', 11129), ('SAMSUNG', 9224), ('VIVO', 8528), ('RICARDO ELETRO', 8355), ('MOTOROLA', 7533), ('TIM CELULAR', 6506), ('CCE', 5672)]\n"
          ]
        },
        {
          "output_type": "display_data",
          "data": {
            "text/plain": [
              "<Figure size 432x288 with 1 Axes>"
            ],
            "image/png": "[encoded data removed]"
          },
          "metadata": {
            "needs_background": "light"
          }
        }
      ]
    },
    {
      "cell_type": "markdown",
      "source": [
        "Contando valores que se repetem da `região`"
      ],
      "metadata": {
        "id": "CxSorJdQrnl8"
      }
    },
    {
      "cell_type": "code",
      "source": [
        "counterValues(\"CodigoRegiao\", 5)\n"
      ],
      "metadata": {
        "colab": {
          "base_uri": "https://localhost:8080/",
          "height": 352
        },
        "id": "S8s3TL-Zkbl8",
        "outputId": "912eea0f-4a7f-4ab1-808a-eef5951b914f"
      },
      "execution_count": 308,
      "outputs": [
        {
          "output_type": "stream",
          "name": "stdout",
          "text": [
            "De 1206072 valores foram contados 5 valores diferentes\n",
            "sendo 0 de valores vazios. \n",
            "\n",
            "Os 5 valores mais comums: \n",
            " [('3', 424311), ('2', 404186), ('5', 188611), ('4', 104154), ('1', 84810)]\n"
          ]
        },
        {
          "output_type": "display_data",
          "data": {
            "text/plain": [
              "<Figure size 432x288 with 1 Axes>"
            ],
            "image/png": "[encoded data removed]"
          },
          "metadata": {
            "needs_background": "light"
          }
        }
      ]
    },
    {
      "cell_type": "markdown",
      "source": [
        "Contando valores que se repetem por data de abertura e arquivamento."
      ],
      "metadata": {
        "id": "Nt4nwZO9nl1H"
      }
    },
    {
      "cell_type": "code",
      "source": [
        "counterValues(\"DataAbertura\", 5)\n"
      ],
      "metadata": {
        "colab": {
          "base_uri": "https://localhost:8080/",
          "height": 372
        },
        "id": "e_2MtWPYngxl",
        "outputId": "6829a1b6-b5ca-428d-ea93-44613d8484ca"
      },
      "execution_count": 309,
      "outputs": [
        {
          "output_type": "stream",
          "name": "stdout",
          "text": [
            "De 1206072 valores foram contados 975105 valores diferentes\n",
            "sendo 0 de valores vazios. \n",
            "\n",
            "Os 5 valores mais comums: \n",
            " [('2015-11-19 00:56:46.000', 201), ('2015-11-19 00:56:57.000', 169), ('2015-11-19 00:56:48.000', 166), ('2015-11-19 00:56:50.000', 165), ('2015-11-19 00:56:51.000', 157)]\n"
          ]
        },
        {
          "output_type": "display_data",
          "data": {
            "text/plain": [
              "<Figure size 432x288 with 1 Axes>"
            ],
            "image/png": "[encoded data removed]"
          },
          "metadata": {
            "needs_background": "light"
          }
        }
      ]
    },
    {
      "cell_type": "code",
      "source": [
        "counterValues(\"DataArquivamento\", 5)\n"
      ],
      "metadata": {
        "colab": {
          "base_uri": "https://localhost:8080/",
          "height": 372
        },
        "id": "PhvNPZjcnq1m",
        "outputId": "f0806f1c-5125-4dd7-a362-d8348193ebd2"
      },
      "execution_count": 310,
      "outputs": [
        {
          "output_type": "stream",
          "name": "stdout",
          "text": [
            "De 1206072 valores foram contados 754395 valores diferentes\n",
            "sendo 0 de valores vazios. \n",
            "\n",
            "Os 5 valores mais comums: \n",
            " [('2015-12-31 00:00:00.000', 1507), ('2012-01-01 00:00:00.000', 686), ('2012-12-01 00:00:00.000', 448), ('2013-03-01 00:00:00.000', 269), ('2014-01-01 00:00:00.000', 256)]\n"
          ]
        },
        {
          "output_type": "display_data",
          "data": {
            "text/plain": [
              "<Figure size 432x288 with 1 Axes>"
            ],
            "image/png": "[encoded data removed]"
          },
          "metadata": {
            "needs_background": "light"
          }
        }
      ]
    },
    {
      "cell_type": "markdown",
      "source": [
        "Gerando a coluna de duração de chamadas"
      ],
      "metadata": {
        "id": "isGovVvDngCZ"
      }
    },
    {
      "cell_type": "code",
      "source": [
        "openedDate = dfFull['DataAbertura']\n",
        "archivatedDate = dfFull['DataArquivamento']"
      ],
      "metadata": {
        "id": "I7sWMif-MXWD"
      },
      "execution_count": 311,
      "outputs": []
    },
    {
      "cell_type": "code",
      "source": [
        "openedDate"
      ],
      "metadata": {
        "colab": {
          "base_uri": "https://localhost:8080/"
        },
        "id": "nuSkIVN0TQyH",
        "outputId": "4abbadcf-c657-45d1-adee-eb1804d5bf24"
      },
      "execution_count": 312,
      "outputs": [
        {
          "output_type": "execute_result",
          "data": {
            "text/plain": [
              "0         2009-09-17 10:48:42.000\n",
              "1         2009-09-17 10:02:24.000\n",
              "2         2009-09-17 11:36:47.000\n",
              "3         2009-09-21 09:01:49.000\n",
              "4         2009-09-18 17:32:22.000\n",
              "                   ...           \n",
              "203481    2016-05-06 11:21:45.000\n",
              "203482    2016-05-02 15:28:57.000\n",
              "203483    2016-04-29 16:20:30.000\n",
              "203484    2016-04-19 07:58:16.000\n",
              "203485    2016-04-19 08:42:27.000\n",
              "Name: DataAbertura, Length: 1206072, dtype: object"
            ]
          },
          "metadata": {},
          "execution_count": 312
        }
      ]
    },
    {
      "cell_type": "code",
      "source": [
        "dfFull['DataArquivamento'] = dfFull['DataArquivamento'].astype(np.datetime64)\n",
        "dfFull['DataAbertura'] =  dfFull['DataAbertura'].astype(np.datetime64)"
      ],
      "metadata": {
        "id": "whtGGHTRPO1N"
      },
      "execution_count": 313,
      "outputs": []
    },
    {
      "cell_type": "code",
      "source": [
        "dfFull['DuracaoChamada'] = dfFull['DataArquivamento'] - dfFull['DataAbertura']\n",
        "dfFull['DuracaoChamada'] = dfFull['DuracaoChamada'].dt.days.astype(int)"
      ],
      "metadata": {
        "id": "7NbgGSfgSHDI"
      },
      "execution_count": 314,
      "outputs": []
    },
    {
      "cell_type": "code",
      "source": [
        "def filterColumns(df, columns):\n",
        "  if(columns is None):\n",
        "    return;\n",
        "  df.drop(df.columns.difference(columns), 1, inplace=True)\n"
      ],
      "metadata": {
        "id": "vHVWONR2TIb8"
      },
      "execution_count": 315,
      "outputs": []
    },
    {
      "cell_type": "code",
      "source": [
        "NecessaryColumns = [\n",
        "  'AnoCalendario',\n",
        "  'CodigoRegiao',\n",
        "  'Tipo',\n",
        "  'CodigoAssunto',\n",
        "  'DuracaoChamada'\n",
        "]\n",
        "\n",
        "filterColumns(dfFull, NecessaryColumns)\n",
        "dfFull.dropna()\n",
        "dfFull.info()"
      ],
      "metadata": {
        "colab": {
          "base_uri": "https://localhost:8080/"
        },
        "id": "V18j9rVZS3KM",
        "outputId": "21792ec4-d5cf-4a0d-b0ae-16558fe2c0fb"
      },
      "execution_count": 316,
      "outputs": [
        {
          "output_type": "stream",
          "name": "stdout",
          "text": [
            "<class 'pandas.core.frame.DataFrame'>\n",
            "Int64Index: 1206072 entries, 0 to 203485\n",
            "Data columns (total 5 columns):\n",
            " #   Column          Non-Null Count    Dtype\n",
            "---  ------          --------------    -----\n",
            " 0   AnoCalendario   1206072 non-null  int64\n",
            " 1   CodigoRegiao    1206072 non-null  int64\n",
            " 2   Tipo            1206072 non-null  int64\n",
            " 3   CodigoAssunto   1206072 non-null  int64\n",
            " 4   DuracaoChamada  1206072 non-null  int64\n",
            "dtypes: int64(5)\n",
            "memory usage: 55.2 MB\n"
          ]
        },
        {
          "output_type": "stream",
          "name": "stderr",
          "text": [
            "/usr/local/lib/python3.7/dist-packages/ipykernel_launcher.py:4: FutureWarning: In a future version of pandas all arguments of DataFrame.drop except for the argument 'labels' will be keyword-only\n",
            "  after removing the cwd from sys.path.\n"
          ]
        }
      ]
    },
    {
      "cell_type": "markdown",
      "source": [
        "Gerando um modelo de predição"
      ],
      "metadata": {
        "id": "YAamxz68faYX"
      }
    },
    {
      "cell_type": "code",
      "source": [
        "x = dfFull\n",
        "X = x.drop('DuracaoChamada',axis=1) \n",
        "y = x['DuracaoChamada']\n",
        "xTrain,xTest,yTrain,yTest = train_test_split(X,y,test_size=0.3, train_size=0.6)"
      ],
      "metadata": {
        "id": "6jYXjQxXbYIl"
      },
      "execution_count": 317,
      "outputs": []
    },
    {
      "cell_type": "code",
      "source": [
        "print(\"X Treino \\n-------------------------------------------------------------------------\")\n",
        "print(xTrain)\n",
        "\n",
        "print(\"x Test \\n-------------------------------------------------------------------------\")\n",
        "print(xTest)\n",
        "\n",
        "print(\"Y Treino \\n-------------------------------------------------------------------------\")\n",
        "print(yTrain)\n",
        "\n",
        "print(\"Y test \\n-------------------------------------------------------------------------\")\n",
        "print(yTest)"
      ],
      "metadata": {
        "id": "2C1AAxEYjS3w",
        "outputId": "a5e8b44b-eed3-4015-b8ef-1a60395c62f3",
        "colab": {
          "base_uri": "https://localhost:8080/"
        }
      },
      "execution_count": 318,
      "outputs": [
        {
          "output_type": "stream",
          "name": "stdout",
          "text": [
            "X Treino \n",
            "-------------------------------------------------------------------------\n",
            "        AnoCalendario  CodigoRegiao  Tipo  CodigoAssunto\n",
            "125962           2012             2     1             98\n",
            "1910             2013             4     1            264\n",
            "257256           2014             3     1            186\n",
            "166530           2013             3     1            235\n",
            "240745           2014             4     1             54\n",
            "...               ...           ...   ...            ...\n",
            "208230           2014             2     1            259\n",
            "239203           2013             2     1             96\n",
            "251296           2014             1     1             54\n",
            "131536           2016             2     1            234\n",
            "103289           2014             3     1             54\n",
            "\n",
            "[723643 rows x 4 columns]\n",
            "x Test \n",
            "-------------------------------------------------------------------------\n",
            "        AnoCalendario  CodigoRegiao  Tipo  CodigoAssunto\n",
            "104923           2016             4     1             63\n",
            "37148            2012             4     1            187\n",
            "26123            2013             5     1             54\n",
            "113184           2015             2     1            187\n",
            "200914           2015             4     1            122\n",
            "...               ...           ...   ...            ...\n",
            "190583           2013             5     1            183\n",
            "117722           2015             5     1             94\n",
            "211065           2015             2     1            123\n",
            "258785           2013             5     1             96\n",
            "23610            2012             5     1            120\n",
            "\n",
            "[361822 rows x 4 columns]\n",
            "Y Treino \n",
            "-------------------------------------------------------------------------\n",
            "125962     51\n",
            "1910      152\n",
            "257256    159\n",
            "166530     97\n",
            "240745     38\n",
            "         ... \n",
            "208230     33\n",
            "239203     41\n",
            "251296     42\n",
            "131536    107\n",
            "103289    107\n",
            "Name: DuracaoChamada, Length: 723643, dtype: int64\n",
            "Y test \n",
            "-------------------------------------------------------------------------\n",
            "104923    1126\n",
            "37148     1001\n",
            "26123       79\n",
            "113184      58\n",
            "200914      55\n",
            "          ... \n",
            "190583     276\n",
            "117722      30\n",
            "211065      42\n",
            "258785     244\n",
            "23610      113\n",
            "Name: DuracaoChamada, Length: 361822, dtype: int64\n"
          ]
        }
      ]
    },
    {
      "cell_type": "markdown",
      "source": [
        "Usando o modelo XGB"
      ],
      "metadata": {
        "id": "cPV-1I0eeKIR"
      }
    },
    {
      "cell_type": "code",
      "source": [
        "xgbModel = XGBRegressor()\n",
        "xgbModel.fit(xTrain, yTrain)\n",
        "yPrediction = xgbModel.predict(xTest)"
      ],
      "metadata": {
        "colab": {
          "base_uri": "https://localhost:8080/"
        },
        "id": "Pb5AIEfwbzun",
        "outputId": "a69e8df9-c3bb-43f2-bdb2-787a45df6397"
      },
      "execution_count": 319,
      "outputs": [
        {
          "output_type": "stream",
          "name": "stdout",
          "text": [
            "[23:35:14] WARNING: /workspace/src/objective/regression_obj.cu:152: reg:linear is now deprecated in favor of reg:squarederror.\n"
          ]
        }
      ]
    },
    {
      "cell_type": "code",
      "source": [
        "r2_score(yTest, yPrediction)"
      ],
      "metadata": {
        "colab": {
          "base_uri": "https://localhost:8080/"
        },
        "id": "4hKYSXR8cANS",
        "outputId": "680033d7-d1a9-43b0-a644-cb3a74b8ae52"
      },
      "execution_count": 320,
      "outputs": [
        {
          "output_type": "execute_result",
          "data": {
            "text/plain": [
              "0.09156458152822922"
            ]
          },
          "metadata": {},
          "execution_count": 320
        }
      ]
    },
    {
      "cell_type": "markdown",
      "source": [
        "Usando o modelo Floresta aleatoria"
      ],
      "metadata": {
        "id": "4Y5IG-x9eRu_"
      }
    },
    {
      "cell_type": "code",
      "source": [
        "RandomForestModel = RandomForestRegressor()\n",
        "\n",
        "RandomForestModel.fit(xTrain, yTrain)\n",
        "\n",
        "yPrediction = RandomForestModel.predict(xTest)"
      ],
      "metadata": {
        "id": "n5d5bOSkC0BT"
      },
      "execution_count": 321,
      "outputs": []
    },
    {
      "cell_type": "code",
      "source": [
        "r2_score(yTest, yPrediction)"
      ],
      "metadata": {
        "colab": {
          "base_uri": "https://localhost:8080/"
        },
        "id": "inn7axFQKI2r",
        "outputId": "404cf627-31f1-4b7e-9612-9152c69382f9"
      },
      "execution_count": 322,
      "outputs": [
        {
          "output_type": "execute_result",
          "data": {
            "text/plain": [
              "0.11516065407453968"
            ]
          },
          "metadata": {},
          "execution_count": 322
        }
      ]
    }
  ],
  "metadata": {
    "colab": {
      "collapsed_sections": [],
      "provenance": []
    },
    "kernelspec": {
      "display_name": "Python 3.10.4 64-bit",
      "language": "python",
      "name": "python3"
    },
    "language_info": {
      "name": "python",
      "version": "3.10.4"
    },
    "vscode": {
      "interpreter": {
        "hash": "aee8b7b246df8f9039afb4144a1f6fd8d2ca17a180786b69acc140d282b71a49"
      }
    }
  },
  "nbformat": 4,
  "nbformat_minor": 0
}
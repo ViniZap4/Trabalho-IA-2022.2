{
  "cells": [
    {
      "cell_type": "markdown",
      "metadata": {
        "id": "P5x6mrqU6cca"
      },
      "source": [
        "# Trabalho de inteligencia artificial\n",
        "\n",
        "## Autor\n",
        "- **Nome**: _Vinicius Zapalá dos Santos_\n",
        "- **RA**: 3019109027\n",
        "\n",
        "## Entregas\n",
        "- [X] Entrega I\n",
        "    - leitura dos dados, merge e geração de dataset único.\n",
        "- [ ] Entrega II\n",
        "    - Análise exploratória do conjunto de dados e conclusões.\n",
        "- [ ] Entrega III\n",
        "    - Modelo preditivo com tuning de parâmetros + Entregas I e II.\n",
        "- [ ] Entrega IV\n",
        "    - Deploy do modelo (API ou aplicação) + Entregas I, II e III."
      ]
    },
    {
      "cell_type": "markdown",
      "metadata": {
        "id": "JGb21fcd7FPb"
      },
      "source": [
        "# Importando Libs"
      ]
    },
    {
      "cell_type": "code",
      "execution_count": 1,
      "metadata": {
        "id": "x5jdIlLf6Vlv"
      },
      "outputs": [],
      "source": [
        "import pandas as pd"
      ]
    },
    {
      "cell_type": "markdown",
      "metadata": {
        "id": "gfBRsLU2-00r"
      },
      "source": [
        "# Lendo Datasets"
      ]
    },
    {
      "cell_type": "code",
      "execution_count": 14,
      "metadata": {
        "colab": {
          "base_uri": "https://localhost:8080/"
        },
        "id": "j7Mxg-u--4Ke",
        "outputId": "9c84b551-9bd4-4e60-9154-781454d5aedf"
      },
      "outputs": [
        {
          "name": "stderr",
          "output_type": "stream",
          "text": [
            "/usr/local/lib/python3.7/dist-packages/IPython/core/interactiveshell.py:3326: DtypeWarning: Columns (22) have mixed types.Specify dtype option on import or set low_memory=False.\n",
            "  exec(code_obj, self.user_global_ns, self.user_ns)\n"
          ]
        }
      ],
      "source": [
        "#creating variables for folder and files from datasets\n",
        "dataFolder= \"/content/data\"\n",
        "\n",
        "#creating a variable for path files, because their files have a similar name\n",
        "dataFileName = \"/reclamacoes-fundamentadas-sindec-\"\n",
        "defaultPath = dataFolder + dataFileName\n",
        "\n",
        "#setting datasets\n",
        "df2012 = pd.read_csv(defaultPath+\"2012.csv\")\n",
        "df2013 = pd.read_csv(defaultPath+\"2013.csv\")\n",
        "df2014 = pd.read_csv(defaultPath+\"2014.csv\")\n",
        "df2015 = pd.read_csv(defaultPath+\"2015.csv\")\n",
        "df2016 = pd.read_csv(defaultPath+\"2016.csv\")"
      ]
    },
    {
      "cell_type": "markdown",
      "metadata": {
        "id": "zjOBM9_-DP6G"
      },
      "source": [
        "# Contatenando datasets"
      ]
    },
    {
      "cell_type": "code",
      "execution_count": 15,
      "metadata": {
        "id": "8mRzgGsiArjM"
      },
      "outputs": [],
      "source": [
        "#creating a list for datasets will be concatenated\n",
        "frames = [df2012, df2013, df2014, df2015, df2016]\n",
        "\n",
        "#concatenating datasets\n",
        "dfFull = pd.concat(frames)"
      ]
    },
    {
      "cell_type": "code",
      "execution_count": 16,
      "metadata": {
        "colab": {
          "base_uri": "https://localhost:8080/"
        },
        "id": "WxKpAKX_Foqd",
        "outputId": "89906785-a107-4101-b6aa-a68d909ff479"
      },
      "outputs": [
        {
          "data": {
            "text/plain": [
              "(1206072, 23)"
            ]
          },
          "execution_count": 16,
          "metadata": {},
          "output_type": "execute_result"
        }
      ],
      "source": [
        "dfFull.shape"
      ]
    },
    {
      "cell_type": "markdown",
      "metadata": {
        "id": "1v5GJc7FGSHa"
      },
      "source": [
        "# Exportando dataset concatenado"
      ]
    },
    {
      "cell_type": "code",
      "execution_count": 21,
      "metadata": {
        "id": "H4QW2Np2GeC4"
      },
      "outputs": [],
      "source": [
        "dfFull.to_csv(dataFolder+\"/exported\"+dataFileName+\"full.csv\")"
      ]
    }
  ],
  "metadata": {
    "colab": {
      "collapsed_sections": [],
      "name": "trabalho de Inteligência Artificial.ipynb",
      "provenance": []
    },
    "kernelspec": {
      "display_name": "Python 3.10.4 64-bit",
      "language": "python",
      "name": "python3"
    },
    "language_info": {
      "name": "python",
      "version": "3.10.4"
    },
    "vscode": {
      "interpreter": {
        "hash": "aee8b7b246df8f9039afb4144a1f6fd8d2ca17a180786b69acc140d282b71a49"
      }
    }
  },
  "nbformat": 4,
  "nbformat_minor": 0
}

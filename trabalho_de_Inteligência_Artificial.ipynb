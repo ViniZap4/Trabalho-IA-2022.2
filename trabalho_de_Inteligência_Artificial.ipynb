{
  "cells": [
    {
      "cell_type": "markdown",
      "metadata": {
        "id": "P5x6mrqU6cca"
      },
      "source": [
        "# Trabalho de inteligencia artificial\n",
        "\n",
        "## Autores\n",
        "- _Brenda Aryelle_\n",
        "    - **RA**: 3019101902\n",
        "- _Felipe Moresqui_\n",
        "    - **RA**: 3019100222\n",
        "- _Lucas Alves Ribeiro_\n",
        "    - **RA**: 3019103813\n",
        "- _Vinicius Zapalá dos Santos_\n",
        "    - **RA**: 3019109027\n",
        "\n",
        "## Entregas\n",
        "- [X] Entrega I\n",
        "    - leitura dos dados, merge e geração de dataset único.\n",
        "- [X] Entrega II\n",
        "    - Análise exploratória do conjunto de dados e conclusões.\n",
        "- [ ] Entrega III\n",
        "    - Modelo preditivo com tuning de parâmetros + Entregas I e II.\n",
        "- [ ] Entrega IV\n",
        "    - Deploy do modelo (API ou aplicação) + Entregas I, II e III."
      ]
    },
    {
      "cell_type": "markdown",
      "metadata": {
        "id": "JGb21fcd7FPb"
      },
      "source": [
        "# Importando Libs"
      ]
    },
    {
      "cell_type": "code",
      "execution_count": 72,
      "metadata": {
        "id": "x5jdIlLf6Vlv"
      },
      "outputs": [],
      "source": [
        "import pandas as pd\n",
        "import numpy as np\n",
        "from collections import Counter\n",
        "from nltk.tokenize import word_tokenize, sent_tokenize\n"
      ]
    },
    {
      "cell_type": "markdown",
      "metadata": {
        "id": "gfBRsLU2-00r"
      },
      "source": [
        "# Lendo Datasets"
      ]
    },
    {
      "cell_type": "code",
      "execution_count": 73,
      "metadata": {
        "colab": {
          "base_uri": "https://localhost:8080/"
        },
        "id": "j7Mxg-u--4Ke",
        "outputId": "6868546e-c5b7-4984-b227-61efee6092bc"
      },
      "outputs": [
        {
          "output_type": "stream",
          "name": "stderr",
          "text": [
            "/usr/local/lib/python3.7/dist-packages/IPython/core/interactiveshell.py:3326: DtypeWarning: Columns (22) have mixed types.Specify dtype option on import or set low_memory=False.\n",
            "  exec(code_obj, self.user_global_ns, self.user_ns)\n"
          ]
        }
      ],
      "source": [
        "#creating variables for folder and files from datasets\n",
        "dataFolder= \"/content/data\"\n",
        "\n",
        "#creating a variable for path files, because their files have a similar name\n",
        "dataFileName = \"/reclamacoes-fundamentadas-sindec-\"\n",
        "defaultPath = dataFolder + dataFileName\n",
        "\n",
        "#setting datasets\n",
        "df2012 = pd.read_csv(defaultPath+\"2012.csv\")\n",
        "df2013 = pd.read_csv(defaultPath+\"2013.csv\")\n",
        "df2014 = pd.read_csv(defaultPath+\"2014.csv\")\n",
        "df2015 = pd.read_csv(defaultPath+\"2015.csv\")\n",
        "df2016 = pd.read_csv(defaultPath+\"2016.csv\")"
      ]
    },
    {
      "cell_type": "markdown",
      "metadata": {
        "id": "zjOBM9_-DP6G"
      },
      "source": [
        "# Concatenando datasets"
      ]
    },
    {
      "cell_type": "code",
      "execution_count": 74,
      "metadata": {
        "id": "8mRzgGsiArjM"
      },
      "outputs": [],
      "source": [
        "#creating a list for datasets will be concatenated\n",
        "frames = [df2012, df2013, df2014, df2015, df2016]\n",
        "\n",
        "#concatenating datasets\n",
        "dfFull = pd.concat(frames)"
      ]
    },
    {
      "cell_type": "code",
      "execution_count": 75,
      "metadata": {
        "id": "WxKpAKX_Foqd",
        "colab": {
          "base_uri": "https://localhost:8080/"
        },
        "outputId": "06cff09c-a4aa-4260-d949-41de62b78ef9"
      },
      "outputs": [
        {
          "output_type": "execute_result",
          "data": {
            "text/plain": [
              "(1206072, 23)"
            ]
          },
          "metadata": {},
          "execution_count": 75
        }
      ],
      "source": [
        "dfFull.shape"
      ]
    },
    {
      "cell_type": "markdown",
      "metadata": {
        "id": "1v5GJc7FGSHa"
      },
      "source": [
        "# Exportando dataset concatenado"
      ]
    },
    {
      "cell_type": "code",
      "execution_count": 76,
      "metadata": {
        "id": "H4QW2Np2GeC4"
      },
      "outputs": [],
      "source": [
        "#dfFull.to_csv(dataFolder+\"/exported\"+dataFileName+\"full.csv\")"
      ]
    },
    {
      "cell_type": "markdown",
      "source": [
        "## Análise exploratória do conjunto de dados e conclusões."
      ],
      "metadata": {
        "id": "lja9tWOds9iK"
      }
    },
    {
      "cell_type": "markdown",
      "source": [
        "Entendendo Dataset"
      ],
      "metadata": {
        "id": "yOP3jRDmepTk"
      }
    },
    {
      "cell_type": "code",
      "source": [
        "dfFull.info()"
      ],
      "metadata": {
        "colab": {
          "base_uri": "https://localhost:8080/"
        },
        "id": "cfENT1x6erPb",
        "outputId": "cadcd3e4-1e29-4784-cf25-5ead89531ccd"
      },
      "execution_count": 77,
      "outputs": [
        {
          "output_type": "stream",
          "name": "stdout",
          "text": [
            "<class 'pandas.core.frame.DataFrame'>\n",
            "Int64Index: 1206072 entries, 0 to 203485\n",
            "Data columns (total 23 columns):\n",
            " #   Column                 Non-Null Count    Dtype  \n",
            "---  ------                 --------------    -----  \n",
            " 0   AnoCalendario          1206072 non-null  int64  \n",
            " 1   DataArquivamento       1206072 non-null  object \n",
            " 2   DataAbertura           1206072 non-null  object \n",
            " 3   CodigoRegiao           1206072 non-null  int64  \n",
            " 4   Regiao                 1206072 non-null  object \n",
            " 5   UF                     1206072 non-null  object \n",
            " 6   strRazaoSocial         1206064 non-null  object \n",
            " 7   strNomeFantasia        1006636 non-null  object \n",
            " 8   Tipo                   1206072 non-null  int64  \n",
            " 9   NumeroCNPJ             1153518 non-null  float64\n",
            " 10  RadicalCNPJ            1152390 non-null  float64\n",
            " 11  RazaoSocialRFB         1137442 non-null  object \n",
            " 12  NomeFantasiaRFB        547639 non-null   object \n",
            " 13  CNAEPrincipal          1133380 non-null  float64\n",
            " 14  DescCNAEPrincipal      1122261 non-null  object \n",
            " 15  Atendida               1206072 non-null  object \n",
            " 16  CodigoAssunto          1206072 non-null  int64  \n",
            " 17  DescricaoAssunto       1206072 non-null  object \n",
            " 18  CodigoProblema         1206052 non-null  float64\n",
            " 19  DescricaoProblema      1206052 non-null  object \n",
            " 20  SexoConsumidor         1205101 non-null  object \n",
            " 21  FaixaEtariaConsumidor  1206072 non-null  object \n",
            " 22  CEPConsumidor          1123266 non-null  object \n",
            "dtypes: float64(4), int64(4), object(15)\n",
            "memory usage: 220.8+ MB\n"
          ]
        }
      ]
    },
    {
      "cell_type": "markdown",
      "source": [
        "serpadando as 100 primeiras linhas do dataset "
      ],
      "metadata": {
        "id": "mzVzHdJwbG4y"
      }
    },
    {
      "cell_type": "code",
      "source": [
        "dfhead = dfFull.head(100)\n",
        "dfhead"
      ],
      "metadata": {
        "id": "jZGgflO2s95B",
        "colab": {
          "base_uri": "https://localhost:8080/",
          "height": 974
        },
        "outputId": "8c7113bc-76a5-4000-8bb7-54caa193567d"
      },
      "execution_count": 78,
      "outputs": [
        {
          "output_type": "execute_result",
          "data": {
            "text/plain": [
              "    AnoCalendario         DataArquivamento             DataAbertura  \\\n",
              "0            2012  2012-07-13 17:44:45.000  2009-09-17 10:48:42.000   \n",
              "1            2012  2012-07-13 17:37:19.000  2009-09-17 10:02:24.000   \n",
              "2            2012  2012-07-16 09:07:13.000  2009-09-17 11:36:47.000   \n",
              "3            2012  2012-12-10 09:05:09.000  2009-09-21 09:01:49.000   \n",
              "4            2012  2012-07-13 17:51:01.000  2009-09-18 17:32:22.000   \n",
              "..            ...                      ...                      ...   \n",
              "95           2012  2012-08-31 10:48:18.000  2008-03-31 10:48:01.000   \n",
              "96           2012  2012-06-06 13:41:47.000  2009-05-06 17:20:51.000   \n",
              "97           2012  2012-06-06 13:48:05.000  2009-05-07 11:52:47.000   \n",
              "98           2012  2012-06-06 13:53:39.000  2009-05-07 12:38:38.000   \n",
              "99           2012  2012-07-16 08:48:51.000  2009-11-23 18:02:43.000   \n",
              "\n",
              "    CodigoRegiao        Regiao  UF  \\\n",
              "0              3       Sudeste  ES   \n",
              "1              3       Sudeste  ES   \n",
              "2              3       Sudeste  ES   \n",
              "3              5  Centro-oeste  GO   \n",
              "4              3       Sudeste  ES   \n",
              "..           ...           ...  ..   \n",
              "95             2      Nordeste  CE   \n",
              "96             3       Sudeste  ES   \n",
              "97             3       Sudeste  ES   \n",
              "98             3       Sudeste  ES   \n",
              "99             3       Sudeste  ES   \n",
              "\n",
              "                                       strRazaoSocial  \\\n",
              "0                       IBI PROMOTORA DE VENDAS LTDA.   \n",
              "1                 SAMSUNG ELETRONICA DA AMAZONIA LTDA   \n",
              "2                           LINNU''S AUTOMOVEIS LTDA.   \n",
              "3   AMAZON PC INDUSTRIA E COMERCIO DE MICROCOMPUTA...   \n",
              "4                      OFFICINA REVESTIMENTOS LTDA ME   \n",
              "..                                                ...   \n",
              "95      GRADIENTE ELETRONICA S/A (IGB ELETRÔNICA S/A)   \n",
              "96                    JR EVENTOS E FORMATURAS LTDA ME   \n",
              "97                 MABE CAMPINAS ELETRODOMESTICOS S/A   \n",
              "98                                  SONY BRASIL LTDA.   \n",
              "99                            TELEMAR NORTE LESTE S/A   \n",
              "\n",
              "               strNomeFantasia  Tipo    NumeroCNPJ  ...  CNAEPrincipal  \\\n",
              "0                     IBI CARD     1  7.448120e+13  ...      7490104.0   \n",
              "1                      SAMSUNG     1  2.802730e+11  ...      2640000.0   \n",
              "2            LINNUS AUTOMOVEIS     1  3.635548e+13  ...      4512902.0   \n",
              "3                    AMAZON PC     1  1.614079e+12  ...      2621300.0   \n",
              "4                          NaN     1  5.444155e+12  ...      4744005.0   \n",
              "..                         ...   ...           ...  ...            ...   \n",
              "95                         NaN     1  4.318536e+13  ...      2640000.0   \n",
              "96     JR EVENTOS E FORMATURAS     1  7.339319e+12  ...      7420004.0   \n",
              "97  DAKO / GE ELETRODOMÉSTICOS     1  4.604131e+13  ...      2751100.0   \n",
              "98                        SONY     1  4.344704e+13  ...      2640000.0   \n",
              "99   OI FIXO/OI MOVEL/OI VELOX     1  3.300012e+13  ...      6110801.0   \n",
              "\n",
              "                                    DescCNAEPrincipal Atendida  CodigoAssunto  \\\n",
              "0   ATIVIDADES DE INTERMEDIAÇÃO E AGENCIAMENTO DE ...        N             54   \n",
              "1   FABRICAÇÃO DE APARELHOS DE RECEPÇÃO, REPRODUÇÃ...        N            101   \n",
              "2    COMÉRCIO SOB CONSIGNAÇÃO DE VEÍCULOS AUTOMOTORES        N            129   \n",
              "3           FABRICAÇÃO DE EQUIPAMENTOS DE INFORMÁTICA        S            102   \n",
              "4   COMÉRCIO VAREJISTA DE MATERIAIS DE CONSTRUÇÃO ...        N            118   \n",
              "..                                                ...      ...            ...   \n",
              "95  FABRICAÇÃO DE APARELHOS DE RECEPÇÃO, REPRODUÇÃ...        N             96   \n",
              "96                       FILMAGEM DE FESTAS E EVENTOS        S             91   \n",
              "97  FABRICAÇÃO DE FOGÕES, REFRIGERADORES E MÁQUINA...        S             94   \n",
              "98  FABRICAÇÃO DE APARELHOS DE RECEPÇÃO, REPRODUÇÃ...        S            102   \n",
              "99         SERVIÇOS DE TELEFONIA FIXA COMUTADA - STFC        N             54   \n",
              "\n",
              "                                     DescricaoAssunto CodigoProblema  \\\n",
              "0                                   Cartão de Crédito           32.0   \n",
              "1   Telefone ( Convencional, Celular, Interfone, E...          102.0   \n",
              "2                   Carro Nacional Zero ( Montadora )          111.0   \n",
              "3           Microcomputador / Produtos de Informática          102.0   \n",
              "4   Material de Acabamento de Construção Pronto (P...          116.0   \n",
              "..                                                ...            ...   \n",
              "95  Televisão / Vídeo Cassete / Filmadora / Video-...          113.0   \n",
              "96  Artigo de audiovisual ( Fita Cassete, Disco, F...          116.0   \n",
              "97                                Geladeira e Freezer          102.0   \n",
              "98          Microcomputador / Produtos de Informática          102.0   \n",
              "99                                  Cartão de Crédito          218.0   \n",
              "\n",
              "                                    DescricaoProblema SexoConsumidor  \\\n",
              "0                      Calculo de prestação em atraso              F   \n",
              "1             Garantia (Abrangência, cobertura, etc.)              M   \n",
              "2                                      Venda enganosa              M   \n",
              "3             Garantia (Abrangência, cobertura, etc.)              M   \n",
              "4   Contrato/pedido/orçamento (rescisão, descumpri...              M   \n",
              "..                                                ...            ...   \n",
              "95                         Falta de peca de reposição              M   \n",
              "96  Contrato/pedido/orçamento (rescisão, descumpri...              F   \n",
              "97            Garantia (Abrangência, cobertura, etc.)              F   \n",
              "98            Garantia (Abrangência, cobertura, etc.)              M   \n",
              "99               Transação Eletrônica Não Reconhecida              M   \n",
              "\n",
              "    FaixaEtariaConsumidor CEPConsumidor  \n",
              "0         mais de 70 anos      29072040  \n",
              "1      entre 31 a 40 anos      29115360  \n",
              "2      entre 21 a 30 anos      29060110  \n",
              "3      entre 21 a 30 anos      75911000  \n",
              "4           Nao Informada      29090120  \n",
              "..                    ...           ...  \n",
              "95     entre 51 a 60 anos      60000000  \n",
              "96     entre 31 a 40 anos           NaN  \n",
              "97     entre 51 a 60 anos      29140000  \n",
              "98     entre 21 a 30 anos      29043490  \n",
              "99     entre 51 a 60 anos      29048480  \n",
              "\n",
              "[100 rows x 23 columns]"
            ],
            "text/html": [
              "\n",
              "  <div id=\"df-99cf3bdb-a20e-4570-9a56-c32a2a319e65\">\n",
              "    <div class=\"colab-df-container\">\n",
              "      <div>\n",
              "<style scoped>\n",
              "    .dataframe tbody tr th:only-of-type {\n",
              "        vertical-align: middle;\n",
              "    }\n",
              "\n",
              "    .dataframe tbody tr th {\n",
              "        vertical-align: top;\n",
              "    }\n",
              "\n",
              "    .dataframe thead th {\n",
              "        text-align: right;\n",
              "    }\n",
              "</style>\n",
              "<table border=\"1\" class=\"dataframe\">\n",
              "  <thead>\n",
              "    <tr style=\"text-align: right;\">\n",
              "      <th></th>\n",
              "      <th>AnoCalendario</th>\n",
              "      <th>DataArquivamento</th>\n",
              "      <th>DataAbertura</th>\n",
              "      <th>CodigoRegiao</th>\n",
              "      <th>Regiao</th>\n",
              "      <th>UF</th>\n",
              "      <th>strRazaoSocial</th>\n",
              "      <th>strNomeFantasia</th>\n",
              "      <th>Tipo</th>\n",
              "      <th>NumeroCNPJ</th>\n",
              "      <th>...</th>\n",
              "      <th>CNAEPrincipal</th>\n",
              "      <th>DescCNAEPrincipal</th>\n",
              "      <th>Atendida</th>\n",
              "      <th>CodigoAssunto</th>\n",
              "      <th>DescricaoAssunto</th>\n",
              "      <th>CodigoProblema</th>\n",
              "      <th>DescricaoProblema</th>\n",
              "      <th>SexoConsumidor</th>\n",
              "      <th>FaixaEtariaConsumidor</th>\n",
              "      <th>CEPConsumidor</th>\n",
              "    </tr>\n",
              "  </thead>\n",
              "  <tbody>\n",
              "    <tr>\n",
              "      <th>0</th>\n",
              "      <td>2012</td>\n",
              "      <td>2012-07-13 17:44:45.000</td>\n",
              "      <td>2009-09-17 10:48:42.000</td>\n",
              "      <td>3</td>\n",
              "      <td>Sudeste</td>\n",
              "      <td>ES</td>\n",
              "      <td>IBI PROMOTORA DE VENDAS LTDA.</td>\n",
              "      <td>IBI CARD</td>\n",
              "      <td>1</td>\n",
              "      <td>7.448120e+13</td>\n",
              "      <td>...</td>\n",
              "      <td>7490104.0</td>\n",
              "      <td>ATIVIDADES DE INTERMEDIAÇÃO E AGENCIAMENTO DE ...</td>\n",
              "      <td>N</td>\n",
              "      <td>54</td>\n",
              "      <td>Cartão de Crédito</td>\n",
              "      <td>32.0</td>\n",
              "      <td>Calculo de prestação em atraso</td>\n",
              "      <td>F</td>\n",
              "      <td>mais de 70 anos</td>\n",
              "      <td>29072040</td>\n",
              "    </tr>\n",
              "    <tr>\n",
              "      <th>1</th>\n",
              "      <td>2012</td>\n",
              "      <td>2012-07-13 17:37:19.000</td>\n",
              "      <td>2009-09-17 10:02:24.000</td>\n",
              "      <td>3</td>\n",
              "      <td>Sudeste</td>\n",
              "      <td>ES</td>\n",
              "      <td>SAMSUNG ELETRONICA DA AMAZONIA LTDA</td>\n",
              "      <td>SAMSUNG</td>\n",
              "      <td>1</td>\n",
              "      <td>2.802730e+11</td>\n",
              "      <td>...</td>\n",
              "      <td>2640000.0</td>\n",
              "      <td>FABRICAÇÃO DE APARELHOS DE RECEPÇÃO, REPRODUÇÃ...</td>\n",
              "      <td>N</td>\n",
              "      <td>101</td>\n",
              "      <td>Telefone ( Convencional, Celular, Interfone, E...</td>\n",
              "      <td>102.0</td>\n",
              "      <td>Garantia (Abrangência, cobertura, etc.)</td>\n",
              "      <td>M</td>\n",
              "      <td>entre 31 a 40 anos</td>\n",
              "      <td>29115360</td>\n",
              "    </tr>\n",
              "    <tr>\n",
              "      <th>2</th>\n",
              "      <td>2012</td>\n",
              "      <td>2012-07-16 09:07:13.000</td>\n",
              "      <td>2009-09-17 11:36:47.000</td>\n",
              "      <td>3</td>\n",
              "      <td>Sudeste</td>\n",
              "      <td>ES</td>\n",
              "      <td>LINNU''S AUTOMOVEIS LTDA.</td>\n",
              "      <td>LINNUS AUTOMOVEIS</td>\n",
              "      <td>1</td>\n",
              "      <td>3.635548e+13</td>\n",
              "      <td>...</td>\n",
              "      <td>4512902.0</td>\n",
              "      <td>COMÉRCIO SOB CONSIGNAÇÃO DE VEÍCULOS AUTOMOTORES</td>\n",
              "      <td>N</td>\n",
              "      <td>129</td>\n",
              "      <td>Carro Nacional Zero ( Montadora )</td>\n",
              "      <td>111.0</td>\n",
              "      <td>Venda enganosa</td>\n",
              "      <td>M</td>\n",
              "      <td>entre 21 a 30 anos</td>\n",
              "      <td>29060110</td>\n",
              "    </tr>\n",
              "    <tr>\n",
              "      <th>3</th>\n",
              "      <td>2012</td>\n",
              "      <td>2012-12-10 09:05:09.000</td>\n",
              "      <td>2009-09-21 09:01:49.000</td>\n",
              "      <td>5</td>\n",
              "      <td>Centro-oeste</td>\n",
              "      <td>GO</td>\n",
              "      <td>AMAZON PC INDUSTRIA E COMERCIO DE MICROCOMPUTA...</td>\n",
              "      <td>AMAZON PC</td>\n",
              "      <td>1</td>\n",
              "      <td>1.614079e+12</td>\n",
              "      <td>...</td>\n",
              "      <td>2621300.0</td>\n",
              "      <td>FABRICAÇÃO DE EQUIPAMENTOS DE INFORMÁTICA</td>\n",
              "      <td>S</td>\n",
              "      <td>102</td>\n",
              "      <td>Microcomputador / Produtos de Informática</td>\n",
              "      <td>102.0</td>\n",
              "      <td>Garantia (Abrangência, cobertura, etc.)</td>\n",
              "      <td>M</td>\n",
              "      <td>entre 21 a 30 anos</td>\n",
              "      <td>75911000</td>\n",
              "    </tr>\n",
              "    <tr>\n",
              "      <th>4</th>\n",
              "      <td>2012</td>\n",
              "      <td>2012-07-13 17:51:01.000</td>\n",
              "      <td>2009-09-18 17:32:22.000</td>\n",
              "      <td>3</td>\n",
              "      <td>Sudeste</td>\n",
              "      <td>ES</td>\n",
              "      <td>OFFICINA REVESTIMENTOS LTDA ME</td>\n",
              "      <td>NaN</td>\n",
              "      <td>1</td>\n",
              "      <td>5.444155e+12</td>\n",
              "      <td>...</td>\n",
              "      <td>4744005.0</td>\n",
              "      <td>COMÉRCIO VAREJISTA DE MATERIAIS DE CONSTRUÇÃO ...</td>\n",
              "      <td>N</td>\n",
              "      <td>118</td>\n",
              "      <td>Material de Acabamento de Construção Pronto (P...</td>\n",
              "      <td>116.0</td>\n",
              "      <td>Contrato/pedido/orçamento (rescisão, descumpri...</td>\n",
              "      <td>M</td>\n",
              "      <td>Nao Informada</td>\n",
              "      <td>29090120</td>\n",
              "    </tr>\n",
              "    <tr>\n",
              "      <th>...</th>\n",
              "      <td>...</td>\n",
              "      <td>...</td>\n",
              "      <td>...</td>\n",
              "      <td>...</td>\n",
              "      <td>...</td>\n",
              "      <td>...</td>\n",
              "      <td>...</td>\n",
              "      <td>...</td>\n",
              "      <td>...</td>\n",
              "      <td>...</td>\n",
              "      <td>...</td>\n",
              "      <td>...</td>\n",
              "      <td>...</td>\n",
              "      <td>...</td>\n",
              "      <td>...</td>\n",
              "      <td>...</td>\n",
              "      <td>...</td>\n",
              "      <td>...</td>\n",
              "      <td>...</td>\n",
              "      <td>...</td>\n",
              "      <td>...</td>\n",
              "    </tr>\n",
              "    <tr>\n",
              "      <th>95</th>\n",
              "      <td>2012</td>\n",
              "      <td>2012-08-31 10:48:18.000</td>\n",
              "      <td>2008-03-31 10:48:01.000</td>\n",
              "      <td>2</td>\n",
              "      <td>Nordeste</td>\n",
              "      <td>CE</td>\n",
              "      <td>GRADIENTE ELETRONICA S/A (IGB ELETRÔNICA S/A)</td>\n",
              "      <td>NaN</td>\n",
              "      <td>1</td>\n",
              "      <td>4.318536e+13</td>\n",
              "      <td>...</td>\n",
              "      <td>2640000.0</td>\n",
              "      <td>FABRICAÇÃO DE APARELHOS DE RECEPÇÃO, REPRODUÇÃ...</td>\n",
              "      <td>N</td>\n",
              "      <td>96</td>\n",
              "      <td>Televisão / Vídeo Cassete / Filmadora / Video-...</td>\n",
              "      <td>113.0</td>\n",
              "      <td>Falta de peca de reposição</td>\n",
              "      <td>M</td>\n",
              "      <td>entre 51 a 60 anos</td>\n",
              "      <td>60000000</td>\n",
              "    </tr>\n",
              "    <tr>\n",
              "      <th>96</th>\n",
              "      <td>2012</td>\n",
              "      <td>2012-06-06 13:41:47.000</td>\n",
              "      <td>2009-05-06 17:20:51.000</td>\n",
              "      <td>3</td>\n",
              "      <td>Sudeste</td>\n",
              "      <td>ES</td>\n",
              "      <td>JR EVENTOS E FORMATURAS LTDA ME</td>\n",
              "      <td>JR EVENTOS E FORMATURAS</td>\n",
              "      <td>1</td>\n",
              "      <td>7.339319e+12</td>\n",
              "      <td>...</td>\n",
              "      <td>7420004.0</td>\n",
              "      <td>FILMAGEM DE FESTAS E EVENTOS</td>\n",
              "      <td>S</td>\n",
              "      <td>91</td>\n",
              "      <td>Artigo de audiovisual ( Fita Cassete, Disco, F...</td>\n",
              "      <td>116.0</td>\n",
              "      <td>Contrato/pedido/orçamento (rescisão, descumpri...</td>\n",
              "      <td>F</td>\n",
              "      <td>entre 31 a 40 anos</td>\n",
              "      <td>NaN</td>\n",
              "    </tr>\n",
              "    <tr>\n",
              "      <th>97</th>\n",
              "      <td>2012</td>\n",
              "      <td>2012-06-06 13:48:05.000</td>\n",
              "      <td>2009-05-07 11:52:47.000</td>\n",
              "      <td>3</td>\n",
              "      <td>Sudeste</td>\n",
              "      <td>ES</td>\n",
              "      <td>MABE CAMPINAS ELETRODOMESTICOS S/A</td>\n",
              "      <td>DAKO / GE ELETRODOMÉSTICOS</td>\n",
              "      <td>1</td>\n",
              "      <td>4.604131e+13</td>\n",
              "      <td>...</td>\n",
              "      <td>2751100.0</td>\n",
              "      <td>FABRICAÇÃO DE FOGÕES, REFRIGERADORES E MÁQUINA...</td>\n",
              "      <td>S</td>\n",
              "      <td>94</td>\n",
              "      <td>Geladeira e Freezer</td>\n",
              "      <td>102.0</td>\n",
              "      <td>Garantia (Abrangência, cobertura, etc.)</td>\n",
              "      <td>F</td>\n",
              "      <td>entre 51 a 60 anos</td>\n",
              "      <td>29140000</td>\n",
              "    </tr>\n",
              "    <tr>\n",
              "      <th>98</th>\n",
              "      <td>2012</td>\n",
              "      <td>2012-06-06 13:53:39.000</td>\n",
              "      <td>2009-05-07 12:38:38.000</td>\n",
              "      <td>3</td>\n",
              "      <td>Sudeste</td>\n",
              "      <td>ES</td>\n",
              "      <td>SONY BRASIL LTDA.</td>\n",
              "      <td>SONY</td>\n",
              "      <td>1</td>\n",
              "      <td>4.344704e+13</td>\n",
              "      <td>...</td>\n",
              "      <td>2640000.0</td>\n",
              "      <td>FABRICAÇÃO DE APARELHOS DE RECEPÇÃO, REPRODUÇÃ...</td>\n",
              "      <td>S</td>\n",
              "      <td>102</td>\n",
              "      <td>Microcomputador / Produtos de Informática</td>\n",
              "      <td>102.0</td>\n",
              "      <td>Garantia (Abrangência, cobertura, etc.)</td>\n",
              "      <td>M</td>\n",
              "      <td>entre 21 a 30 anos</td>\n",
              "      <td>29043490</td>\n",
              "    </tr>\n",
              "    <tr>\n",
              "      <th>99</th>\n",
              "      <td>2012</td>\n",
              "      <td>2012-07-16 08:48:51.000</td>\n",
              "      <td>2009-11-23 18:02:43.000</td>\n",
              "      <td>3</td>\n",
              "      <td>Sudeste</td>\n",
              "      <td>ES</td>\n",
              "      <td>TELEMAR NORTE LESTE S/A</td>\n",
              "      <td>OI FIXO/OI MOVEL/OI VELOX</td>\n",
              "      <td>1</td>\n",
              "      <td>3.300012e+13</td>\n",
              "      <td>...</td>\n",
              "      <td>6110801.0</td>\n",
              "      <td>SERVIÇOS DE TELEFONIA FIXA COMUTADA - STFC</td>\n",
              "      <td>N</td>\n",
              "      <td>54</td>\n",
              "      <td>Cartão de Crédito</td>\n",
              "      <td>218.0</td>\n",
              "      <td>Transação Eletrônica Não Reconhecida</td>\n",
              "      <td>M</td>\n",
              "      <td>entre 51 a 60 anos</td>\n",
              "      <td>29048480</td>\n",
              "    </tr>\n",
              "  </tbody>\n",
              "</table>\n",
              "<p>100 rows × 23 columns</p>\n",
              "</div>\n",
              "      <button class=\"colab-df-convert\" onclick=\"convertToInteractive('df-99cf3bdb-a20e-4570-9a56-c32a2a319e65')\"\n",
              "              title=\"Convert this dataframe to an interactive table.\"\n",
              "              style=\"display:none;\">\n",
              "        \n",
              "  <svg xmlns=\"http://www.w3.org/2000/svg\" height=\"24px\"viewBox=\"0 0 24 24\"\n",
              "       width=\"24px\">\n",
              "    <path d=\"M0 0h24v24H0V0z\" fill=\"none\"/>\n",
              "    <path d=\"M18.56 5.44l.94 2.06.94-2.06 2.06-.94-2.06-.94-.94-2.06-.94 2.06-2.06.94zm-11 1L8.5 8.5l.94-2.06 2.06-.94-2.06-.94L8.5 2.5l-.94 2.06-2.06.94zm10 10l.94 2.06.94-2.06 2.06-.94-2.06-.94-.94-2.06-.94 2.06-2.06.94z\"/><path d=\"M17.41 7.96l-1.37-1.37c-.4-.4-.92-.59-1.43-.59-.52 0-1.04.2-1.43.59L10.3 9.45l-7.72 7.72c-.78.78-.78 2.05 0 2.83L4 21.41c.39.39.9.59 1.41.59.51 0 1.02-.2 1.41-.59l7.78-7.78 2.81-2.81c.8-.78.8-2.07 0-2.86zM5.41 20L4 18.59l7.72-7.72 1.47 1.35L5.41 20z\"/>\n",
              "  </svg>\n",
              "      </button>\n",
              "      \n",
              "  <style>\n",
              "    .colab-df-container {\n",
              "      display:flex;\n",
              "      flex-wrap:wrap;\n",
              "      gap: 12px;\n",
              "    }\n",
              "\n",
              "    .colab-df-convert {\n",
              "      background-color: #E8F0FE;\n",
              "      border: none;\n",
              "      border-radius: 50%;\n",
              "      cursor: pointer;\n",
              "      display: none;\n",
              "      fill: #1967D2;\n",
              "      height: 32px;\n",
              "      padding: 0 0 0 0;\n",
              "      width: 32px;\n",
              "    }\n",
              "\n",
              "    .colab-df-convert:hover {\n",
              "      background-color: #E2EBFA;\n",
              "      box-shadow: 0px 1px 2px rgba(60, 64, 67, 0.3), 0px 1px 3px 1px rgba(60, 64, 67, 0.15);\n",
              "      fill: #174EA6;\n",
              "    }\n",
              "\n",
              "    [theme=dark] .colab-df-convert {\n",
              "      background-color: #3B4455;\n",
              "      fill: #D2E3FC;\n",
              "    }\n",
              "\n",
              "    [theme=dark] .colab-df-convert:hover {\n",
              "      background-color: #434B5C;\n",
              "      box-shadow: 0px 1px 3px 1px rgba(0, 0, 0, 0.15);\n",
              "      filter: drop-shadow(0px 1px 2px rgba(0, 0, 0, 0.3));\n",
              "      fill: #FFFFFF;\n",
              "    }\n",
              "  </style>\n",
              "\n",
              "      <script>\n",
              "        const buttonEl =\n",
              "          document.querySelector('#df-99cf3bdb-a20e-4570-9a56-c32a2a319e65 button.colab-df-convert');\n",
              "        buttonEl.style.display =\n",
              "          google.colab.kernel.accessAllowed ? 'block' : 'none';\n",
              "\n",
              "        async function convertToInteractive(key) {\n",
              "          const element = document.querySelector('#df-99cf3bdb-a20e-4570-9a56-c32a2a319e65');\n",
              "          const dataTable =\n",
              "            await google.colab.kernel.invokeFunction('convertToInteractive',\n",
              "                                                     [key], {});\n",
              "          if (!dataTable) return;\n",
              "\n",
              "          const docLinkHtml = 'Like what you see? Visit the ' +\n",
              "            '<a target=\"_blank\" href=https://colab.research.google.com/notebooks/data_table.ipynb>data table notebook</a>'\n",
              "            + ' to learn more about interactive tables.';\n",
              "          element.innerHTML = '';\n",
              "          dataTable['output_type'] = 'display_data';\n",
              "          await google.colab.output.renderOutput(dataTable, element);\n",
              "          const docLink = document.createElement('div');\n",
              "          docLink.innerHTML = docLinkHtml;\n",
              "          element.appendChild(docLink);\n",
              "        }\n",
              "      </script>\n",
              "    </div>\n",
              "  </div>\n",
              "  "
            ]
          },
          "metadata": {},
          "execution_count": 78
        }
      ]
    },
    {
      "cell_type": "code",
      "source": [
        "def counterValues(column, most_common):\n",
        "  # creating array for values counter\n",
        "  counterValues = []\n",
        "\n",
        "  dfheadRaplaced = dfhead.replace({np.nan:\"Void Value\"})# sorting out void values\n",
        "\n",
        "\n",
        "  # Adding values in array counter\n",
        "  for i in dfheadRaplaced[column]:\n",
        "      counterValues.append(i) # adding respective values\n",
        "\n",
        "  #counting Values\n",
        "  counterWithVoid = Counter(counterValues)\n",
        "\n",
        "  print(f'De 100 valores foram contados {len(counterWithVoid.items())} valores diferentes')\n",
        "  print(f'sendo {counterWithVoid[\"Void Value\"]} de valores vazios. \\n')\n",
        "\n",
        "  #removing void values\n",
        "  counter = counterWithVoid\n",
        "  del counter[\"Void Value\"]\n",
        "\n",
        "\n",
        "  print(f'Os {most_common} valores mais comums: \\n {counter.most_common(most_common)}')"
      ],
      "metadata": {
        "id": "p5pWoWIPryUo"
      },
      "execution_count": 105,
      "outputs": []
    },
    {
      "cell_type": "markdown",
      "source": [
        "Contando valores que se repetem da `strNomeFantasia`"
      ],
      "metadata": {
        "id": "l1DvTCGghHCS"
      }
    },
    {
      "cell_type": "code",
      "source": [
        "counterValues(\"strNomeFantasia\", 10)"
      ],
      "metadata": {
        "colab": {
          "base_uri": "https://localhost:8080/"
        },
        "id": "Gw6BFWSZr80y",
        "outputId": "ef6ae18b-b377-4766-9a8c-b6769984dda4"
      },
      "execution_count": 106,
      "outputs": [
        {
          "output_type": "stream",
          "name": "stdout",
          "text": [
            "De 100 valores foram contados 74 valores diferentes\n",
            "sendo 13 de valores vazios. \n",
            "\n",
            "Os 10 valores mais comums: \n",
            " [('CLARO', 4), ('SAMSUNG', 3), ('OI FIXO/OI MOVEL/OI VELOX', 3), ('IBI CARD', 2), ('TIM', 2), ('SIEMENS CELULARES', 2), ('MUNDO DIGITAL', 2), ('OI MÓVEL/ OI TV', 2), ('NOKIA', 2), ('VIVO', 2)]\n"
          ]
        }
      ]
    },
    {
      "cell_type": "markdown",
      "source": [
        "Contando valores que se repetem da `região`"
      ],
      "metadata": {
        "id": "CxSorJdQrnl8"
      }
    },
    {
      "cell_type": "code",
      "source": [
        "counterValues(\"Regiao\", 4)\n"
      ],
      "metadata": {
        "colab": {
          "base_uri": "https://localhost:8080/"
        },
        "id": "S8s3TL-Zkbl8",
        "outputId": "a7df3f75-678b-4955-9d2e-9c9d682c8184"
      },
      "execution_count": 107,
      "outputs": [
        {
          "output_type": "stream",
          "name": "stdout",
          "text": [
            "De 100 valores foram contados 4 valores diferentes\n",
            "sendo 0 de valores vazios. \n",
            "\n",
            "Os 4 valores mais comums: \n",
            " [('Sudeste', 39), ('Centro-oeste', 26), ('Nordeste', 24), ('Norte', 11)]\n"
          ]
        }
      ]
    }
  ],
  "metadata": {
    "colab": {
      "collapsed_sections": [],
      "provenance": []
    },
    "kernelspec": {
      "display_name": "Python 3.10.4 64-bit",
      "language": "python",
      "name": "python3"
    },
    "language_info": {
      "name": "python",
      "version": "3.10.4"
    },
    "vscode": {
      "interpreter": {
        "hash": "aee8b7b246df8f9039afb4144a1f6fd8d2ca17a180786b69acc140d282b71a49"
      }
    }
  },
  "nbformat": 4,
  "nbformat_minor": 0
}